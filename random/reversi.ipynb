{
 "cells": [
  {
   "cell_type": "code",
   "execution_count": 115,
   "metadata": {},
   "outputs": [],
   "source": [
    "#盤面ゲーム\n",
    "m_num,n_num = 4,4"
   ]
  },
  {
   "cell_type": "code",
   "execution_count": 116,
   "metadata": {},
   "outputs": [],
   "source": [
    "block=[[None for i in range(8)] for i in range(8)]"
   ]
  },
  {
   "cell_type": "code",
   "execution_count": 117,
   "metadata": {},
   "outputs": [],
   "source": [
    "def first_input(block,m_num):\n",
    "    first=int(m_num/2)\n",
    "    a=0\n",
    "    for m in range(first-1,first+1):\n",
    "        a+=1\n",
    "        for n in range(first-1,first+1):\n",
    "            if a%2==1:\n",
    "                block[m][n]='w'\n",
    "            else:\n",
    "                block[m][n]='b'\n",
    "            a+=1\n",
    "    return block"
   ]
  },
  {
   "cell_type": "code",
   "execution_count": 104,
   "metadata": {},
   "outputs": [],
   "source": [
    "block=first_input(block,m_num)"
   ]
  },
  {
   "cell_type": "code",
   "execution_count": 131,
   "metadata": {},
   "outputs": [
    {
     "data": {
      "text/plain": [
       "[[None, None, None, None],\n",
       " [None, 'w', 'b', None],\n",
       " [None, 'b', 'w', None],\n",
       " [None, None, None, None]]"
      ]
     },
     "execution_count": 131,
     "metadata": {},
     "output_type": "execute_result"
    }
   ],
   "source": [
    "block"
   ]
  },
  {
   "cell_type": "code",
   "execution_count": 160,
   "metadata": {},
   "outputs": [],
   "source": [
    "def check_around(m,n,block,turn):#ターンの御石の周囲を調べ、おけるとこを返す\n",
    "    place=[]\n",
    "    \n",
    "    for i in range(m-1,m+2):\n",
    "        for j in range(n-1,n+2):\n",
    "            if m-1< 0 or m+1>len(block[0]) or n-1<0 or n+1>len(block[0]):#盤面外チェック\n",
    "                continue\n",
    "            if m==i and n==j:#周辺のみ探索\n",
    "                continue\n",
    "            if block[m][n] != block[i][j] and block[i][j] != None:#別の御石の色があればその対局のアドレスをリストに格納\n",
    "                x,y = i-(m-i),j-(n-j)\n",
    "                place.append([x,y])\n",
    "                \n",
    "    return place"
   ]
  },
  {
   "cell_type": "code",
   "execution_count": 161,
   "metadata": {},
   "outputs": [],
   "source": [
    "def change_color(block,place,turn):#該当アドレスをターンの色に変える\n",
    "    for m,n in zip(place):\n",
    "        block[m][n]=turn\n",
    "        \n",
    "    return block"
   ]
  },
  {
   "cell_type": "code",
   "execution_count": 166,
   "metadata": {},
   "outputs": [],
   "source": [
    "def available_place(block,m_num,n_num,turn):\n",
    "    \n",
    "    place_list=[]\n",
    "    turn_num=1\n",
    "    block = first_input(block,m_num)\n",
    "\n",
    "    for m in range(m_num):\n",
    "        for n in range(n_num):\n",
    "            if block[m][n]==turn:\n",
    "                print('#')\n",
    "                place=check_around(m,n,block,turn)\n",
    "                place_list.append(place)\n",
    "    \n",
    "    return place_list"
   ]
  },
  {
   "cell_type": "code",
   "execution_count": 167,
   "metadata": {},
   "outputs": [],
   "source": [
    "turn='w'"
   ]
  },
  {
   "cell_type": "code",
   "execution_count": 168,
   "metadata": {},
   "outputs": [
    {
     "name": "stdout",
     "output_type": "stream",
     "text": [
      "#\n",
      "#\n"
     ]
    },
    {
     "data": {
      "text/plain": [
       "[[[1, 3], [3, 1]], [[0, 2], [2, 0]]]"
      ]
     },
     "execution_count": 168,
     "metadata": {},
     "output_type": "execute_result"
    }
   ],
   "source": [
    "available_place(block,m_num,n_num,turn)"
   ]
  },
  {
   "cell_type": "code",
   "execution_count": null,
   "metadata": {},
   "outputs": [],
   "source": [
    "#choose_processが欠けていない、入力形式"
   ]
  },
  {
   "cell_type": "code",
   "execution_count": 1,
   "metadata": {},
   "outputs": [
    {
     "ename": "TypeError",
     "evalue": "append() takes exactly one argument (2 given)",
     "output_type": "error",
     "traceback": [
      "\u001b[0;31m---------------------------------------------------------------------------\u001b[0m",
      "\u001b[0;31mTypeError\u001b[0m                                 Traceback (most recent call last)",
      "\u001b[0;32m<ipython-input-1-dab85d8957e0>\u001b[0m in \u001b[0;36m<module>\u001b[0;34m()\u001b[0m\n\u001b[1;32m      1\u001b[0m \u001b[0ma\u001b[0m\u001b[0;34m=\u001b[0m\u001b[0;34m[\u001b[0m\u001b[0;34m]\u001b[0m\u001b[0;34m\u001b[0m\u001b[0m\n\u001b[0;32m----> 2\u001b[0;31m \u001b[0ma\u001b[0m\u001b[0;34m.\u001b[0m\u001b[0mappend\u001b[0m\u001b[0;34m(\u001b[0m\u001b[0;36m2\u001b[0m\u001b[0;34m,\u001b[0m\u001b[0;36m3\u001b[0m\u001b[0;34m)\u001b[0m\u001b[0;34m\u001b[0m\u001b[0m\n\u001b[0m",
      "\u001b[0;31mTypeError\u001b[0m: append() takes exactly one argument (2 given)"
     ]
    }
   ],
   "source": [
    "a=[]\n",
    "a.append(2,3)"
   ]
  },
  {
   "cell_type": "code",
   "execution_count": 1,
   "metadata": {},
   "outputs": [],
   "source": [
    "a = [[2,2],[3,1]]"
   ]
  },
  {
   "cell_type": "code",
   "execution_count": 2,
   "metadata": {},
   "outputs": [
    {
     "name": "stdout",
     "output_type": "stream",
     "text": [
      "2\n",
      "2\n",
      "3\n",
      "1\n"
     ]
    }
   ],
   "source": [
    "for i in range(2):\n",
    "    for j in range(2):\n",
    "        print(a[i][j])"
   ]
  },
  {
   "cell_type": "code",
   "execution_count": 3,
   "metadata": {},
   "outputs": [
    {
     "name": "stdout",
     "output_type": "stream",
     "text": [
      "1\n",
      "2\n",
      "3\n",
      "4\n",
      "5\n",
      "6\n",
      "7\n",
      "8\n",
      "9\n",
      "10\n"
     ]
    }
   ],
   "source": [
    "a=0\n",
    "while(a<10):\n",
    "    a+=1\n",
    "    print(a)"
   ]
  },
  {
   "cell_type": "code",
   "execution_count": 5,
   "metadata": {},
   "outputs": [
    {
     "name": "stdout",
     "output_type": "stream",
     "text": [
      "['foo', 'bar', 100]\n",
      "['foo', 'bar', 100]\n",
      "['foo', 'new', 100]\n"
     ]
    }
   ],
   "source": [
    "mylist = [\"foo\",\"bar\",100]\n",
    "def modify_list(mylist):\n",
    "    new_list = list(mylist)\n",
    "    new_list[1]=\"new\"\n",
    "    \n",
    "    \n",
    "    return new_list\n",
    "\n",
    "print(mylist)\n",
    "new_list = modify_list(mylist)\n",
    "print(mylist)\n",
    "print(new_list)"
   ]
  },
  {
   "cell_type": "code",
   "execution_count": null,
   "metadata": {},
   "outputs": [],
   "source": []
  }
 ],
 "metadata": {
  "kernelspec": {
   "display_name": "Python 3",
   "language": "python",
   "name": "python3"
  },
  "language_info": {
   "codemirror_mode": {
    "name": "ipython",
    "version": 3
   },
   "file_extension": ".py",
   "mimetype": "text/x-python",
   "name": "python",
   "nbconvert_exporter": "python",
   "pygments_lexer": "ipython3",
   "version": "3.6.4"
  }
 },
 "nbformat": 4,
 "nbformat_minor": 2
}
