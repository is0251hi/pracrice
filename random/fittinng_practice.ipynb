{
 "cells": [
  {
   "cell_type": "code",
   "execution_count": 1,
   "metadata": {},
   "outputs": [],
   "source": [
    "import matplotlib.pyplot as plt\n",
    "import numpy as np\n",
    "from scipy.integrate import odeint\n",
    "import pandas as pd"
   ]
  },
  {
   "cell_type": "code",
   "execution_count": 2,
   "metadata": {},
   "outputs": [],
   "source": [
    "%matplotlib inline"
   ]
  },
  {
   "cell_type": "code",
   "execution_count": 3,
   "metadata": {},
   "outputs": [],
   "source": [
    "# Total population \n",
    "N = 1268000000\n",
    "# Number of infected at time t=0 \n",
    "I0 = 1\n",
    "# Number of removed (either due to immunity or by death) at time t=0 \n",
    "R0 =10\n",
    "# All susceptible individuals at time t=0 \n",
    "S0=N - I0 - R0"
   ]
  },
  {
   "cell_type": "code",
   "execution_count": 47,
   "metadata": {},
   "outputs": [],
   "source": [
    "#contact rate\n",
    "beta = 4\n",
    "#Infectious period(inverse of the number of days) or recovery time\n",
    "gamma = 1"
   ]
  },
  {
   "cell_type": "code",
   "execution_count": 48,
   "metadata": {},
   "outputs": [],
   "source": [
    "# Time from day 0 to day 100 in 1−hour increments 2 \n",
    "t = np.linspace(0, 20, num=2400)\n",
    "#t=34"
   ]
  },
  {
   "cell_type": "code",
   "execution_count": 49,
   "metadata": {},
   "outputs": [],
   "source": [
    "def SIRmodel(compartmentValues, t, N, beta, gamma):\n",
    "    S, I, R = compartmentValues\n",
    "    dSdt = -beta * S * I / N\n",
    "    dIdt = beta * S * I / N - gamma * I\n",
    "    dRdt = gamma * I\n",
    "    return dSdt,dIdt,dRdt"
   ]
  },
  {
   "cell_type": "code",
   "execution_count": 50,
   "metadata": {},
   "outputs": [],
   "source": [
    "# Vector with initial conditions\n",
    "compartmentsValues0 = S0, I0, R0"
   ]
  },
  {
   "cell_type": "code",
   "execution_count": 51,
   "metadata": {},
   "outputs": [],
   "source": [
    "# Integrate the SIR equations over the time grid t and return numerical solutions\n",
    "SIRmodelNumSolve = odeint(SIRmodel, compartmentsValues0, t, args=(N, beta, gamma))\n",
    "S, I, R = SIRmodelNumSolve.T"
   ]
  },
  {
   "cell_type": "code",
   "execution_count": 54,
   "metadata": {},
   "outputs": [],
   "source": [
    "# Integrate the SIR equations over the time grid t and return numerical solutions\n",
    "SIRmodelNumSolve = odeint(SIRmodel, compartmentsValues0, t, args=(N, beta, gamma*3))\n",
    "S, I2, R = SIRmodelNumSolve.T"
   ]
  },
  {
   "cell_type": "code",
   "execution_count": 55,
   "metadata": {},
   "outputs": [
    {
     "data": {
      "image/png": "[encoded data removed]",
      "text/plain": [
       "<matplotlib.figure.Figure at 0x1519738940>"
      ]
     },
     "metadata": {},
     "output_type": "display_data"
    }
   ],
   "source": [
    "# White background\n",
    "fig = plt.figure(facecolor=\"w\")\n",
    "ax = fig.add_subplot(1,1,1, facecolor=\"#eeeeee\", axisbelow=True)\n",
    "# Plot the data for three separate curves: S(t), I(t), and R(t) \n",
    "ax.plot(t, S/N, \"b\", alpha=0.2, lw=1, label=\"Susceptible\")\n",
    "ax.plot(t, I, \"r\", lw=2, label=\"Infected\") \n",
    "ax.plot(t, I2, \"b\", lw=2, label=\"Infected\") \n",
    "ax.plot(t, R/N, \"g\", alpha=0.2, lw=1, label=\"Removed\")\n",
    "ax.set_xlabel(\"Time in days\") \n",
    "ax.set_ylabel(\"Individuals (in \" + str(N) + \"s)\")\n",
    "ax.legend()\n",
    "# The moment of truth\n",
    "plt.show()"
   ]
  },
  {
   "cell_type": "code",
   "execution_count": 13,
   "metadata": {},
   "outputs": [
    {
     "data": {
      "text/plain": [
       "2400"
      ]
     },
     "execution_count": 13,
     "metadata": {},
     "output_type": "execute_result"
    }
   ],
   "source": [
    "len(S)"
   ]
  },
  {
   "cell_type": "code",
   "execution_count": 14,
   "metadata": {},
   "outputs": [
    {
     "data": {
      "text/plain": [
       "2400"
      ]
     },
     "execution_count": 14,
     "metadata": {},
     "output_type": "execute_result"
    }
   ],
   "source": [
    "len(t)"
   ]
  },
  {
   "cell_type": "code",
   "execution_count": 15,
   "metadata": {},
   "outputs": [
    {
     "data": {
      "text/plain": [
       "array([0.00000000e+00, 2.91788245e-02, 5.83576490e-02, ...,\n",
       "       6.99416424e+01, 6.99708212e+01, 7.00000000e+01])"
      ]
     },
     "execution_count": 15,
     "metadata": {},
     "output_type": "execute_result"
    }
   ],
   "source": [
    "t"
   ]
  },
  {
   "cell_type": "code",
   "execution_count": null,
   "metadata": {},
   "outputs": [],
   "source": []
  }
 ],
 "metadata": {
  "kernelspec": {
   "display_name": "Python 3",
   "language": "python",
   "name": "python3"
  },
  "language_info": {
   "codemirror_mode": {
    "name": "ipython",
    "version": 3
   },
   "file_extension": ".py",
   "mimetype": "text/x-python",
   "name": "python",
   "nbconvert_exporter": "python",
   "pygments_lexer": "ipython3",
   "version": "3.6.4"
  }
 },
 "nbformat": 4,
 "nbformat_minor": 2
}
