{
 "cells": [
  {
   "cell_type": "code",
   "execution_count": 1,
   "metadata": {},
   "outputs": [],
   "source": [
    "class Car:\n",
    "    #基本的な自動車の設計\n",
    "    def __init__(self,owner):\n",
    "        self.handle = 0\n",
    "        self.car_type = 'normal'\n",
    "        self.owner = owner\n",
    "        \n",
    "    def turn_left(self):\n",
    "        self.handle -= 90\n",
    "        \n",
    "    def turn_right(self):\n",
    "        self.handle +=90\n",
    "        \n",
    "    def show_status(self,owner):\n",
    "        #状態を表示\n",
    "        print(self.handle)\n",
    "        print(self.owner)\n",
    "        print(self.car_type)\n",
    "        "
   ]
  },
  {
   "cell_type": "code",
   "execution_count": 2,
   "metadata": {},
   "outputs": [],
   "source": [
    "class Van(Car):\n",
    "    #ワゴン車\n",
    "    def __init__(self,owner):\n",
    "        super().__init__(owner)\n",
    "        self.car_type = 'Van'\n",
    "        \n",
    "    def open_door(self):\n",
    "        print('ドアを開けました')\n",
    "        \n",
    "    def close_door(self):\n",
    "        print('ドアを閉じました')\n",
    "        "
   ]
  },
  {
   "cell_type": "code",
   "execution_count": 3,
   "metadata": {},
   "outputs": [],
   "source": [
    "class Camper(Car):\n",
    "    #キャンピングカー\n",
    "    def __init__(self,owner):\n",
    "        super().__init__(owner)#継承クラスから自動で読み込み\n",
    "        super().turn_left()#最初から左ハンドル\n",
    "        self.car_type = 'Camper'#差分のみを定義すれば良いメリット\n",
    "        \n",
    "    def make_ice(self):\n",
    "        #氷を作る\n",
    "        print('氷を作りました')"
   ]
  },
  {
   "cell_type": "code",
   "execution_count": 8,
   "metadata": {},
   "outputs": [],
   "source": [
    "class Bus(Car):\n",
    "    def __init__(self,owner):\n",
    "        super().__init__(owner)\n",
    "        self.car_type = 'Bus'\n",
    "        \n",
    "    def turn_left(self):#継承先にすでに存在するメソッドを定義すると派生クラスが優先される(オーバーロード)\n",
    "        self.handle -= 60\n",
    "        \n",
    "    def turn_right(self):\n",
    "        super().turn_right()#継承先の方を優先したい場合はsuper()を用いる\n",
    "        #self.handle += 60\n",
    "        \n",
    "        \n",
    "    def Bus_stop(self):\n",
    "        print('バスが停車します、ご注意ください',c)"
   ]
  },
  {
   "cell_type": "code",
   "execution_count": 9,
   "metadata": {},
   "outputs": [
    {
     "name": "stdout",
     "output_type": "stream",
     "text": [
      "-90\n",
      "taro\n",
      "normal\n"
     ]
    }
   ],
   "source": [
    "car1 = Car('taro')\n",
    "car1.turn_left()\n",
    "car1.show_status('taro')"
   ]
  },
  {
   "cell_type": "code",
   "execution_count": 10,
   "metadata": {},
   "outputs": [
    {
     "name": "stdout",
     "output_type": "stream",
     "text": [
      "-270\n",
      "Takafumi\n",
      "Camper\n"
     ]
    }
   ],
   "source": [
    "car2 = Camper('Takafumi')\n",
    "car2.turn_left()\n",
    "car2.turn_left()\n",
    "car2.show_status('Takafumi')"
   ]
  },
  {
   "cell_type": "code",
   "execution_count": 11,
   "metadata": {},
   "outputs": [
    {
     "name": "stdout",
     "output_type": "stream",
     "text": [
      "90\n",
      "Jiro\n",
      "Bus\n"
     ]
    }
   ],
   "source": [
    "car3 = Bus('Jiro')\n",
    "car3.turn_right()\n",
    "car3.show_status('Jiro')"
   ]
  },
  {
   "cell_type": "code",
   "execution_count": null,
   "metadata": {},
   "outputs": [],
   "source": []
  }
 ],
 "metadata": {
  "kernelspec": {
   "display_name": "Python 3",
   "language": "python",
   "name": "python3"
  },
  "language_info": {
   "codemirror_mode": {
    "name": "ipython",
    "version": 3
   },
   "file_extension": ".py",
   "mimetype": "text/x-python",
   "name": "python",
   "nbconvert_exporter": "python",
   "pygments_lexer": "ipython3",
   "version": "3.6.4"
  }
 },
 "nbformat": 4,
 "nbformat_minor": 2
}
