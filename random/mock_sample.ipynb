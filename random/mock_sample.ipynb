{
 "cells": [
  {
   "cell_type": "code",
   "execution_count": 1,
   "metadata": {},
   "outputs": [],
   "source": [
    "import unittest \n",
    "from unittest import mock"
   ]
  },
  {
   "cell_type": "code",
   "execution_count": 25,
   "metadata": {},
   "outputs": [],
   "source": [
    "class SearchLoader():\n",
    "    def __init__(self):\n",
    "        self.a=1\n",
    "    def getBody(self,param):\n",
    "        try:\n",
    "            self.a+=1\n",
    "            param[2]=1\n",
    "            print(param)\n",
    "            return param,param[2]\n",
    "        except:\n",
    "            raise\n",
    "    def do(self,param):\n",
    "        print(self.getBody(param,1))\n",
    "        print(self.getBody(param,2))"
   ]
  },
  {
   "cell_type": "code",
   "execution_count": 39,
   "metadata": {},
   "outputs": [
    {
     "name": "stdout",
     "output_type": "stream",
     "text": [
      "<MagicMock name='getBody()' id='4426514704'>\n",
      "<MagicMock name='getBody()' id='4426514704'>\n",
      "{2: 'tak'}\n"
     ]
    }
   ],
   "source": [
    "s = SearchLoader()\n",
    "sample=[]\n",
    "\n",
    "with mock.patch.object(s,'getBody',side_effects=KeyError('')) as m1:\n",
    "    s.do({2:'tak'})\n",
    "    print(m1.call_args[0][0])\n",
    "    a=s.getBody()\n",
    "    \n",
    "#s.do({})\n"
   ]
  },
  {
   "cell_type": "code",
   "execution_count": null,
   "metadata": {},
   "outputs": [],
   "source": []
  },
  {
   "cell_type": "code",
   "execution_count": null,
   "metadata": {},
   "outputs": [],
   "source": []
  },
  {
   "cell_type": "code",
   "execution_count": 236,
   "metadata": {},
   "outputs": [],
   "source": [
    "class Search():\n",
    "    def __init__(self):\n",
    "        self.a = {1:2,2:None}\n",
    "        \n",
    "    def execute(self):\n",
    "        param = self.__copyParam(self.a)\n",
    "        searchLoader = SearchLoader()\n",
    "        body = searchLoader.getBody(param)\n",
    "        return body\n",
    "    \n",
    "    def __copyParam(self,values):\n",
    "        answer={}\n",
    "        if values.getvalue(1):\n",
    "            answer[1] = values.getvalue(1)\n",
    "        else:\n",
    "            answer[1] = None\n",
    "        return answer"
   ]
  },
  {
   "cell_type": "code",
   "execution_count": 237,
   "metadata": {},
   "outputs": [],
   "source": [
    "class Item_search(unittest.TestCase):\n",
    "    def set_up(self):\n",
    "        self.search = Search()\n",
    "        \n",
    "    def test_execute(self):\n",
    "        with mock.patch.object(self.search, '_Search__copyParam', return_value=111) as m1:\n",
    "            body = self.search.execute()\n",
    "            \n",
    "            print(body)\n",
    "            print(m1.call_args[0])"
   ]
  },
  {
   "cell_type": "code",
   "execution_count": 238,
   "metadata": {},
   "outputs": [],
   "source": [
    "a = Item_search()\n",
    "a.set_up()"
   ]
  },
  {
   "cell_type": "code",
   "execution_count": 239,
   "metadata": {},
   "outputs": [
    {
     "name": "stdout",
     "output_type": "stream",
     "text": [
      "111\n",
      "({1: 2, 2: None},)\n"
     ]
    }
   ],
   "source": [
    "a.test_execute()"
   ]
  },
  {
   "cell_type": "code",
   "execution_count": 240,
   "metadata": {},
   "outputs": [
    {
     "data": {
      "text/plain": [
       "True"
      ]
     },
     "execution_count": 240,
     "metadata": {},
     "output_type": "execute_result"
    }
   ],
   "source": [
    "callable(a)"
   ]
  },
  {
   "cell_type": "code",
   "execution_count": 241,
   "metadata": {},
   "outputs": [
    {
     "name": "stdout",
     "output_type": "stream",
     "text": [
      "{1: None}\n"
     ]
    }
   ],
   "source": [
    "mock_form = mock.MagicMock()\n",
    "param = {}\n",
    "mock_form.getvalue.side_effect = lambda key: param.get(key, None)\n",
    "param = a.search._Search__copyParam(mock_form)\n",
    "print(param)"
   ]
  },
  {
   "cell_type": "code",
   "execution_count": 242,
   "metadata": {},
   "outputs": [
    {
     "data": {
      "text/plain": [
       "<MagicMock name='mock.get()' id='4501325072'>"
      ]
     },
     "execution_count": 242,
     "metadata": {},
     "output_type": "execute_result"
    }
   ],
   "source": [
    "mock_form.get('mono')"
   ]
  }
 ],
 "metadata": {
  "kernelspec": {
   "display_name": "Python 3",
   "language": "python",
   "name": "python3"
  },
  "language_info": {
   "codemirror_mode": {
    "name": "ipython",
    "version": 3
   },
   "file_extension": ".py",
   "mimetype": "text/x-python",
   "name": "python",
   "nbconvert_exporter": "python",
   "pygments_lexer": "ipython3",
   "version": "3.7.7"
  }
 },
 "nbformat": 4,
 "nbformat_minor": 2
}
