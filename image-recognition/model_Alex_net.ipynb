{
 "cells": [
  {
   "cell_type": "code",
   "execution_count": null,
   "metadata": {},
   "outputs": [],
   "source": [
    "# -*- coding: utf-8 -*-\n",
    "import os\n",
    "import cv2\n",
    "from sklearn.cross_validation import train_test_split\n",
    "from keras.preprocessing.image import ImageDataGenerator\n",
    "%matplotlib inline\n",
    "import matplotlib.pyplot as plt\n",
    "from tqdm import tqdm_notebook as tqdm\n",
    "import numpy as np"
   ]
  },
  {
   "cell_type": "code",
   "execution_count": null,
   "metadata": {},
   "outputs": [],
   "source": [
    "cd"
   ]
  },
  {
   "cell_type": "code",
   "execution_count": null,
   "metadata": {},
   "outputs": [],
   "source": [
    "cd desktop/data/peach-data"
   ]
  },
  {
   "cell_type": "code",
   "execution_count": null,
   "metadata": {},
   "outputs": [],
   "source": [
    "def photo():\n",
    "    data_dir_path = u\"./119APPLE/extended\"\n",
    "    file_list = os.listdir(r'./119APPLE/extended')\n",
    "    image_data=[]\n",
    "    label = []\n",
    "\n",
    "    for file_name in tqdm(file_list):\n",
    "        if file_name == \".DS_Store\":\n",
    "            continue\n",
    "        if file_name == \"extended\":\n",
    "            continue\n",
    "        root, ext = os.path.splitext(file_name)\n",
    "        if ext == u'.png' or u'.jpeg' or u'.jpg':\n",
    "            abs_name = data_dir_path + '/' + file_name\n",
    "            #print(file_name)\n",
    "            image=cv2.imread(abs_name)\n",
    "            image = cv2.resize(image, ( 227, 227 ))\n",
    "            image = image.transpose(2, 0, 1)\n",
    "            #以下各画像に対する処理を記載する\n",
    "            \n",
    "            image_data.append(image/255)\n",
    "            label.append(0)\n",
    "\n",
    "            \n",
    "    \n",
    "    return image_data,label\n"
   ]
  },
  {
   "cell_type": "code",
   "execution_count": null,
   "metadata": {},
   "outputs": [],
   "source": [
    "def photo_1():\n",
    "    data_dir_path = u\"./120APPLE/extended_2\"\n",
    "    file_list = os.listdir(r'./120APPLE/extended_2')\n",
    "    image_data=[]\n",
    "    label=[]\n",
    "\n",
    "    for file_name in tqdm(file_list):\n",
    "        if file_name == \".DS_Store\":\n",
    "            continue\n",
    "        if file_name == \"extended_2\":\n",
    "            continue\n",
    "        root, ext = os.path.splitext(file_name)\n",
    "        if ext == u'.png' or u'.jpeg' or u'.jpg':\n",
    "            abs_name = data_dir_path + '/' + file_name\n",
    "            image = cv2.imread(abs_name)\n",
    "            image = cv2.resize(image, ( 227, 227 ))\n",
    "            image = image.transpose(2, 0, 1)\n",
    "            \n",
    "           \n",
    "            image_data.append(image/255)\n",
    "            label.append(1)\n",
    "\n",
    "            \n",
    "    \n",
    "    return image_data,label\n"
   ]
  },
  {
   "cell_type": "code",
   "execution_count": null,
   "metadata": {},
   "outputs": [],
   "source": [
    "data,label = photo()"
   ]
  },
  {
   "cell_type": "code",
   "execution_count": null,
   "metadata": {
    "scrolled": true
   },
   "outputs": [],
   "source": [
    "for i in tqdm(range(5)):\n",
    "    plt.subplot(1, 5, i + 1)\n",
    "    plt.imshow(data[i])\n",
    "    \n",
    "plt.show()"
   ]
  },
  {
   "cell_type": "code",
   "execution_count": null,
   "metadata": {},
   "outputs": [],
   "source": [
    "data_1,label_1=photo_1()"
   ]
  },
  {
   "cell_type": "code",
   "execution_count": null,
   "metadata": {},
   "outputs": [],
   "source": [
    "plt.imshow(data_1[1])\n",
    "plt.show()"
   ]
  },
  {
   "cell_type": "code",
   "execution_count": null,
   "metadata": {},
   "outputs": [],
   "source": [
    "data.extend(data_1)"
   ]
  },
  {
   "cell_type": "code",
   "execution_count": null,
   "metadata": {},
   "outputs": [],
   "source": [
    "label.extend(label_1)"
   ]
  },
  {
   "cell_type": "code",
   "execution_count": null,
   "metadata": {},
   "outputs": [],
   "source": [
    "np.shape(data)"
   ]
  },
  {
   "cell_type": "code",
   "execution_count": null,
   "metadata": {},
   "outputs": [],
   "source": [
    "print(type(data))"
   ]
  },
  {
   "cell_type": "code",
   "execution_count": null,
   "metadata": {},
   "outputs": [],
   "source": [
    "import numpy as np\n",
    "import matplotlib.pyplot as plt\n",
    "from keras.datasets import mnist\n",
    "from keras.layers import Activation, Conv2D, Dense, Flatten, MaxPooling2D, BatchNormalization\n",
    "from keras.models import Sequential, load_model\n",
    "from keras.utils.np_utils import to_categorical\n",
    "from keras.callbacks import Callback, EarlyStopping\n",
    "from keras.optimizers import SGD\n",
    "from keras.optimizers import Adam"
   ]
  },
  {
   "cell_type": "code",
   "execution_count": null,
   "metadata": {},
   "outputs": [],
   "source": [
    "train_data, test_data, train_label, test_label = train_test_split(data, label, test_size=0.3, random_state=0)"
   ]
  },
  {
   "cell_type": "code",
   "execution_count": null,
   "metadata": {},
   "outputs": [],
   "source": [
    "train_data = np.reshape(a=train_data, newshape=(-1,3,227,227))\n",
    "test_data = np.reshape(a = test_data,newshape=(-1,3,227,227))\n",
    "train_labels = to_categorical(train_label,2)\n",
    "test_labels = to_categorical(test_label,2)"
   ]
  },
  {
   "cell_type": "code",
   "execution_count": null,
   "metadata": {},
   "outputs": [],
   "source": [
    "print(np.shape(test_data))\n",
    "print(np.shape(train_labels))"
   ]
  },
  {
   "cell_type": "code",
   "execution_count": null,
   "metadata": {},
   "outputs": [],
   "source": [
    "from keras.layers import Activation, Dense, Dropout, Convolution2D, Flatten, MaxPooling2D,BatchNormalization\n",
    "from keras import backend as K\n",
    "K.set_image_dim_ordering('tf')\n",
    "K.set_image_data_format('channels_first')\n",
    "model2 = Sequential()"
   ]
  },
  {
   "cell_type": "code",
   "execution_count": null,
   "metadata": {},
   "outputs": [],
   "source": [
    "#Alex net\n",
    "#kernelの大きさは分割する際のピクセル数\n",
    "model2.add(Conv2D(input_shape=(3,227, 227), filters=96,kernel_size=(7, 7), strides=(2, 2), padding=\"same\"))\n",
    "model2.add(MaxPooling2D(pool_size=(3, 3),strides=(2,2),border_mode='same'))\n",
    "model2.add(BatchNormalization())\n",
    "\n",
    "model2.add(Conv2D(filters=256, kernel_size=(\n",
    "    5, 5), strides=(2, 2), padding=\"same\",bias_initializer='ones' ))\n",
    "model2.add(MaxPooling2D(pool_size=(3, 3), strides=(2, 2),border_mode='same'))\n",
    "#model2.add(Activation(\"relu\"))\n",
    "model2.add(BatchNormalization())\n",
    "\n",
    "\n",
    "model2.add(Conv2D(filters=384,kernel_size= (3,3),bias_initializer='zeros' ))\n",
    "model2.add(Conv2D(filters=384, kernel_size= (3,3),bias_initializer='ones'))\n",
    "model2.add(Conv2D(filters=256, kernel_size= (3,3),bias_initializer='ones',padding=\"same\"))\n",
    "model2.add(MaxPooling2D(pool_size=(3, 3), strides=(2, 2),border_mode='same'))\n",
    "model2.add(BatchNormalization())\n",
    "\n",
    "\n",
    "\n",
    "model2.add(Flatten())\n",
    "model2.add(Dense(4096))\n",
    "model2.add(Dropout(0.5))\n",
    "model2.add(Dense(4096))\n",
    "model2.add(Dropout(0.5))\n",
    "\n",
    "\n",
    "model2.add(Dense(2))\n",
    "model2.add(Activation('softmax'))\n",
    "\n",
    "# コンパイル\n",
    "model2.compile(optimizer=SGD(lr=0.0001), loss='categorical_crossentropy',\n",
    "              metrics=['accuracy'])\n",
    "#SGDの大きさは学習率s\n",
    "# 学習\n",
    "early_stopping = EarlyStopping(monitor='loss', patience=3, verbose=1, mode='auto')\n",
    "history = model2.fit(train_data, train_labels, batch_size=128, epochs=18,shuffle=True,validation_data=(test_data, test_labels),callbacks=[early_stopping])\n"
   ]
  },
  {
   "cell_type": "code",
   "execution_count": null,
   "metadata": {},
   "outputs": [],
   "source": [
    "def plot_history(history):\n",
    "    #plt.plot(history.history['acc'],\"o-\",label=\"accuracy\")\n",
    "    plt.plot(history.history['val_acc'],\"o-\",label=\"val_acc\")\n",
    "    plt.title('model accuracy')\n",
    "    plt.xlabel('epoch')\n",
    "    plt.ylabel('accuracy')\n",
    "    plt.ylim(0, 1)\n",
    "    plt.legend(bbox_to_anchor=(1.05, 1), loc=2, borderaxespad=0.)\n",
    "    plt.show()\n",
    "\n",
    "    #plt.plot(history.history['loss'],\"o-\",label=\"loss\",)\n",
    "    plt.plot(history.history['val_loss'],\"o-\",label=\"val_loss\")\n",
    "    plt.title('model loss')\n",
    "    plt.xlabel('epoch')\n",
    "    plt.ylabel('loss')\n",
    "    plt.ylim(ymin=0)\n",
    "    plt.legend(bbox_to_anchor=(1.05, 1), loc=2, borderaxespad=0.)\n",
    "    plt.show()\n"
   ]
  },
  {
   "cell_type": "code",
   "execution_count": null,
   "metadata": {
    "scrolled": false
   },
   "outputs": [],
   "source": [
    "plot_history(history)"
   ]
  },
  {
   "cell_type": "code",
   "execution_count": null,
   "metadata": {},
   "outputs": [],
   "source": [
    "model2.save(\"model_alex4.h5\")"
   ]
  },
  {
   "cell_type": "code",
   "execution_count": null,
   "metadata": {},
   "outputs": [],
   "source": [
    "model2.summary()"
   ]
  },
  {
   "cell_type": "code",
   "execution_count": null,
   "metadata": {},
   "outputs": [],
   "source": [
    "model=load_model(\"model_alex3.h5\")"
   ]
  },
  {
   "cell_type": "code",
   "execution_count": null,
   "metadata": {},
   "outputs": [],
   "source": [
    "model.compile(optimizer=SGD(lr=0.0001), loss='categorical_crossentropy',\n",
    "              metrics=['accuracy'])"
   ]
  },
  {
   "cell_type": "code",
   "execution_count": null,
   "metadata": {},
   "outputs": [],
   "source": [
    "score = model.evaluate(test_data, test_labels, verbose=0)\n",
    "print('Test loss :', score[0])\n",
    "print('Test accuracy :', score[1])"
   ]
  },
  {
   "cell_type": "code",
   "execution_count": null,
   "metadata": {},
   "outputs": [],
   "source": [
    "from sklearn.metrics import confusion_matrix\n",
    "data_pred = model.predict_classes(test_data,batch_size=1)"
   ]
  },
  {
   "cell_type": "code",
   "execution_count": null,
   "metadata": {},
   "outputs": [],
   "source": [
    "confmat = confusion_matrix(test_label,y_pred=data_pred )"
   ]
  },
  {
   "cell_type": "code",
   "execution_count": null,
   "metadata": {},
   "outputs": [],
   "source": [
    "print(confmat)"
   ]
  },
  {
   "cell_type": "code",
   "execution_count": null,
   "metadata": {},
   "outputs": [],
   "source": [
    "fig,ax = plt.subplots(figsize=(2.5,2.5))\n",
    "ax.matshow(confmat,cmap=plt.cm.Blues,alpha=0.3)\n",
    "for i in range(confmat.shape[0]):\n",
    "    for j in range(confmat.shape[1]):\n",
    "        ax.text(x=j,y=i,s=confmat[i,j],va='center',ha='center')\n",
    "plt.xlabel('predicted label')\n",
    "plt.ylabel('true label')\n",
    "plt.tight_layout()\n",
    "plt.show"
   ]
  },
  {
   "cell_type": "code",
   "execution_count": null,
   "metadata": {},
   "outputs": [],
   "source": [
    "sample=[]\n",
    "for i in tqdm(range(100)):\n",
    "    if test_label[i-1] != data_pred[i-1]:\n",
    "        test=np.reshape(a =  test_data[i-1],newshape=(3,227,227))\n",
    "        test = test.transpose(1, 2, 0)\n",
    "        #tested = cv2.cvtColor(test, cv2.COLOR_BGR2RGB)\n",
    "        #tested = cv2.cvtColor(test, cv2.COLOR_RGB2BGR)\n",
    "        sample.append(test)\n",
    "        \n",
    "        "
   ]
  },
  {
   "cell_type": "code",
   "execution_count": null,
   "metadata": {},
   "outputs": [],
   "source": [
    "\n",
    "for i in tqdm(range(5)):\n",
    "    plt.subplot(1, 5, i + 1)\n",
    "    plt.imshow(sample[i])\n",
    "    \n",
    "plt.show()"
   ]
  },
  {
   "cell_type": "code",
   "execution_count": null,
   "metadata": {},
   "outputs": [],
   "source": [
    "#sam=cv2.cvtColor(sample[3], cv2.COLOR_BGR2RGB)\n",
    "plt.figure(figsize=(50, 50))\n",
    "sam=cv2.resize(sample[3], ( 227, 227 ))\n",
    "plt.imshow(sam)\n",
    "plt.show()"
   ]
  },
  {
   "cell_type": "code",
   "execution_count": null,
   "metadata": {},
   "outputs": [],
   "source": [
    "plt.savefig('figure.png')"
   ]
  },
  {
   "cell_type": "code",
   "execution_count": null,
   "metadata": {},
   "outputs": [],
   "source": []
  },
  {
   "cell_type": "code",
   "execution_count": null,
   "metadata": {},
   "outputs": [],
   "source": []
  },
  {
   "cell_type": "code",
   "execution_count": null,
   "metadata": {},
   "outputs": [],
   "source": [
    "from PIL import Image\n",
    " \n",
    "categories = [ \"0\",\"1\"]\n",
    " \n",
    "pre = data_pred\n",
    "for i,v in enumerate(pre):\n",
    "    pre_ans = v.argmax()\n",
    "    ans = test_labels[i].argmax()\n",
    "    dat = test_data[i]\n",
    "    if ans == pre_ans: continue\n",
    "    fname = \"NG_photo/\" + str(i) + \"-\" + categories[pre_ans] + \"-ne-\" + categories[ans] + \".png\"\n",
    "    #dat *= 255\n",
    "    img = Image.fromarray(dat.reshape((227,227,3))).convert(\"RGB\")\n",
    "    img.save(fname)"
   ]
  },
  {
   "cell_type": "code",
   "execution_count": null,
   "metadata": {},
   "outputs": [],
   "source": []
  }
 ],
 "metadata": {
  "kernelspec": {
   "display_name": "Python 3",
   "language": "python",
   "name": "python3"
  },
  "language_info": {
   "codemirror_mode": {
    "name": "ipython",
    "version": 3
   },
   "file_extension": ".py",
   "mimetype": "text/x-python",
   "name": "python",
   "nbconvert_exporter": "python",
   "pygments_lexer": "ipython3",
   "version": "3.6.4"
  }
 },
 "nbformat": 4,
 "nbformat_minor": 2
}
